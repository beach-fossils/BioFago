{
 "cells": [
  {
   "cell_type": "code",
   "execution_count": 4,
   "outputs": [
    {
     "name": "stderr",
     "output_type": "stream",
     "text": [
      "2024-01-19 15:37:37,914 - INFO - Found 247 assemblies for '\"Erwinia amylovora\"[Organism] AND (latest[filter] AND all[filter] NOT anomalous[filter])'.\n",
      "2024-01-19 15:37:39,926 - INFO - Downloading GCA_028623185.1_ASM2862318v1_genomic.gbff.gz...\n",
      "2024-01-19 15:37:43,129 - INFO - Downloaded /Users/josediogomoura/Desktop/BioFago/github/data/output/new_test/GCA_028623185.1_ASM2862318v1_genomic.gbff.gz\n",
      "2024-01-19 15:37:45,008 - INFO - Downloading GCA_027557715.1_ASM2755771v1_genomic.gbff.gz...\n",
      "2024-01-19 15:37:49,465 - INFO - Downloaded /Users/josediogomoura/Desktop/BioFago/github/data/output/new_test/GCA_027557715.1_ASM2755771v1_genomic.gbff.gz\n"
     ]
    },
    {
     "ename": "KeyboardInterrupt",
     "evalue": "",
     "output_type": "error",
     "traceback": [
      "\u001B[0;31m---------------------------------------------------------------------------\u001B[0m",
      "\u001B[0;31mKeyboardInterrupt\u001B[0m                         Traceback (most recent call last)",
      "Cell \u001B[0;32mIn[4], line 10\u001B[0m\n\u001B[1;32m      7\u001B[0m DEFAULT_TERM \u001B[38;5;241m=\u001B[39m \u001B[38;5;124m'\u001B[39m\u001B[38;5;124m\"\u001B[39m\u001B[38;5;124mErwinia amylovora\u001B[39m\u001B[38;5;124m\"\u001B[39m\u001B[38;5;124m[Organism] AND (latest[filter] AND all[filter] NOT anomalous[filter])\u001B[39m\u001B[38;5;124m'\u001B[39m\n\u001B[1;32m      8\u001B[0m FORMATS \u001B[38;5;241m=\u001B[39m [\u001B[38;5;124m'\u001B[39m\u001B[38;5;124mgbff\u001B[39m\u001B[38;5;124m'\u001B[39m]\n\u001B[0;32m---> 10\u001B[0m \u001B[43msearch_and_download_genomes\u001B[49m\u001B[43m(\u001B[49m\u001B[43msearch_term\u001B[49m\u001B[38;5;241;43m=\u001B[39;49m\u001B[43mDEFAULT_TERM\u001B[49m\u001B[43m,\u001B[49m\u001B[43m \u001B[49m\u001B[43moutput_dir\u001B[49m\u001B[38;5;241;43m=\u001B[39;49m\u001B[43mDEFAULT_OUTPUT_DIR\u001B[49m\u001B[43m,\u001B[49m\u001B[43m \u001B[49m\u001B[43memail\u001B[49m\u001B[38;5;241;43m=\u001B[39;49m\u001B[43mDEFAULT_EMAIL\u001B[49m\u001B[43m,\u001B[49m\u001B[43m \u001B[49m\u001B[43mapi_key\u001B[49m\u001B[38;5;241;43m=\u001B[39;49m\u001B[43mDEFAULT_API_KEY\u001B[49m\u001B[43m,\u001B[49m\u001B[43m \u001B[49m\u001B[43mformats\u001B[49m\u001B[38;5;241;43m=\u001B[39;49m\u001B[43mFORMATS\u001B[49m\u001B[43m)\u001B[49m\n",
      "File \u001B[0;32m~/Desktop/BioFago/github/src/scripts/get_genomes.py:197\u001B[0m, in \u001B[0;36msearch_and_download_genomes\u001B[0;34m(search_term, output_dir, formats, email, api_key)\u001B[0m\n\u001B[1;32m    195\u001B[0m \u001B[38;5;28;01mif\u001B[39;00m formats \u001B[38;5;129;01mis\u001B[39;00m \u001B[38;5;28;01mNone\u001B[39;00m:\n\u001B[1;32m    196\u001B[0m     formats \u001B[38;5;241m=\u001B[39m [\u001B[38;5;124m'\u001B[39m\u001B[38;5;124mgbff\u001B[39m\u001B[38;5;124m'\u001B[39m]\n\u001B[0;32m--> 197\u001B[0m download_count \u001B[38;5;241m=\u001B[39m \u001B[43mdownload_genomes\u001B[49m\u001B[43m(\u001B[49m\u001B[43massembly_ids\u001B[49m\u001B[43m,\u001B[49m\u001B[43m \u001B[49m\u001B[43moutput_dir\u001B[49m\u001B[43m,\u001B[49m\u001B[43m \u001B[49m\u001B[43mformats\u001B[49m\u001B[43m)\u001B[49m\n\u001B[1;32m    198\u001B[0m logger\u001B[38;5;241m.\u001B[39minfo(\u001B[38;5;124mf\u001B[39m\u001B[38;5;124m\"\u001B[39m\u001B[38;5;124mDownload and unzip process completed. Total successful downloads: \u001B[39m\u001B[38;5;132;01m{\u001B[39;00mdownload_count\u001B[38;5;132;01m}\u001B[39;00m\u001B[38;5;124m\"\u001B[39m)\n",
      "File \u001B[0;32m~/Desktop/BioFago/github/src/scripts/get_genomes.py:158\u001B[0m, in \u001B[0;36mdownload_genomes\u001B[0;34m(assembly_ids, output_dir, formats)\u001B[0m\n\u001B[1;32m    156\u001B[0m ftp_server \u001B[38;5;241m=\u001B[39m ftp_path\u001B[38;5;241m.\u001B[39msplit(\u001B[38;5;124m'\u001B[39m\u001B[38;5;124m/\u001B[39m\u001B[38;5;124m'\u001B[39m)[\u001B[38;5;241m2\u001B[39m]\n\u001B[1;32m    157\u001B[0m ftp_dir \u001B[38;5;241m=\u001B[39m \u001B[38;5;124m'\u001B[39m\u001B[38;5;124m/\u001B[39m\u001B[38;5;124m'\u001B[39m\u001B[38;5;241m.\u001B[39mjoin(ftp_path\u001B[38;5;241m.\u001B[39msplit(\u001B[38;5;124m'\u001B[39m\u001B[38;5;124m/\u001B[39m\u001B[38;5;124m'\u001B[39m)[\u001B[38;5;241m3\u001B[39m:])\n\u001B[0;32m--> 158\u001B[0m files \u001B[38;5;241m=\u001B[39m \u001B[43mlist_ftp_directory\u001B[49m\u001B[43m(\u001B[49m\u001B[43mftp_server\u001B[49m\u001B[43m,\u001B[49m\u001B[43m \u001B[49m\u001B[43mftp_dir\u001B[49m\u001B[43m)\u001B[49m\n\u001B[1;32m    160\u001B[0m \u001B[38;5;28;01mfor\u001B[39;00m file \u001B[38;5;129;01min\u001B[39;00m files:\n\u001B[1;32m    161\u001B[0m     \u001B[38;5;28;01mif\u001B[39;00m \u001B[38;5;124m\"\u001B[39m\u001B[38;5;124mwgsmaster\u001B[39m\u001B[38;5;124m\"\u001B[39m \u001B[38;5;129;01mnot\u001B[39;00m \u001B[38;5;129;01min\u001B[39;00m file \u001B[38;5;129;01mand\u001B[39;00m \u001B[38;5;28many\u001B[39m(file\u001B[38;5;241m.\u001B[39mendswith(\u001B[38;5;124mf\u001B[39m\u001B[38;5;124m\"\u001B[39m\u001B[38;5;124m.\u001B[39m\u001B[38;5;132;01m{\u001B[39;00m\u001B[38;5;28mformat\u001B[39m\u001B[38;5;132;01m}\u001B[39;00m\u001B[38;5;124m.gz\u001B[39m\u001B[38;5;124m\"\u001B[39m) \u001B[38;5;28;01mfor\u001B[39;00m \u001B[38;5;28mformat\u001B[39m \u001B[38;5;129;01min\u001B[39;00m formats):\n",
      "File \u001B[0;32m~/Desktop/BioFago/github/src/scripts/get_genomes.py:69\u001B[0m, in \u001B[0;36mlist_ftp_directory\u001B[0;34m(ftp_server, ftp_dir)\u001B[0m\n\u001B[1;32m     60\u001B[0m \u001B[38;5;250m\u001B[39m\u001B[38;5;124;03m\"\"\"\u001B[39;00m\n\u001B[1;32m     61\u001B[0m \u001B[38;5;124;03mList files in a specific directory on an FTP server.\u001B[39;00m\n\u001B[1;32m     62\u001B[0m \n\u001B[0;32m   (...)\u001B[0m\n\u001B[1;32m     65\u001B[0m \u001B[38;5;124;03m:return: list - List of file names in the given directory.\u001B[39;00m\n\u001B[1;32m     66\u001B[0m \u001B[38;5;124;03m\"\"\"\u001B[39;00m\n\u001B[1;32m     68\u001B[0m \u001B[38;5;28;01mwith\u001B[39;00m FTP(ftp_server) \u001B[38;5;28;01mas\u001B[39;00m ftp:\n\u001B[0;32m---> 69\u001B[0m     \u001B[43mftp\u001B[49m\u001B[38;5;241;43m.\u001B[39;49m\u001B[43mlogin\u001B[49m\u001B[43m(\u001B[49m\u001B[43m)\u001B[49m\n\u001B[1;32m     70\u001B[0m     ftp\u001B[38;5;241m.\u001B[39mcwd(ftp_dir)\n\u001B[1;32m     71\u001B[0m     files \u001B[38;5;241m=\u001B[39m ftp\u001B[38;5;241m.\u001B[39mnlst()\n",
      "File \u001B[0;32m/Library/Frameworks/Python.framework/Versions/3.10/lib/python3.10/ftplib.py:414\u001B[0m, in \u001B[0;36mFTP.login\u001B[0;34m(self, user, passwd, acct)\u001B[0m\n\u001B[1;32m    412\u001B[0m resp \u001B[38;5;241m=\u001B[39m \u001B[38;5;28mself\u001B[39m\u001B[38;5;241m.\u001B[39msendcmd(\u001B[38;5;124m'\u001B[39m\u001B[38;5;124mUSER \u001B[39m\u001B[38;5;124m'\u001B[39m \u001B[38;5;241m+\u001B[39m user)\n\u001B[1;32m    413\u001B[0m \u001B[38;5;28;01mif\u001B[39;00m resp[\u001B[38;5;241m0\u001B[39m] \u001B[38;5;241m==\u001B[39m \u001B[38;5;124m'\u001B[39m\u001B[38;5;124m3\u001B[39m\u001B[38;5;124m'\u001B[39m:\n\u001B[0;32m--> 414\u001B[0m     resp \u001B[38;5;241m=\u001B[39m \u001B[38;5;28;43mself\u001B[39;49m\u001B[38;5;241;43m.\u001B[39;49m\u001B[43msendcmd\u001B[49m\u001B[43m(\u001B[49m\u001B[38;5;124;43m'\u001B[39;49m\u001B[38;5;124;43mPASS \u001B[39;49m\u001B[38;5;124;43m'\u001B[39;49m\u001B[43m \u001B[49m\u001B[38;5;241;43m+\u001B[39;49m\u001B[43m \u001B[49m\u001B[43mpasswd\u001B[49m\u001B[43m)\u001B[49m\n\u001B[1;32m    415\u001B[0m \u001B[38;5;28;01mif\u001B[39;00m resp[\u001B[38;5;241m0\u001B[39m] \u001B[38;5;241m==\u001B[39m \u001B[38;5;124m'\u001B[39m\u001B[38;5;124m3\u001B[39m\u001B[38;5;124m'\u001B[39m:\n\u001B[1;32m    416\u001B[0m     resp \u001B[38;5;241m=\u001B[39m \u001B[38;5;28mself\u001B[39m\u001B[38;5;241m.\u001B[39msendcmd(\u001B[38;5;124m'\u001B[39m\u001B[38;5;124mACCT \u001B[39m\u001B[38;5;124m'\u001B[39m \u001B[38;5;241m+\u001B[39m acct)\n",
      "File \u001B[0;32m/Library/Frameworks/Python.framework/Versions/3.10/lib/python3.10/ftplib.py:281\u001B[0m, in \u001B[0;36mFTP.sendcmd\u001B[0;34m(self, cmd)\u001B[0m\n\u001B[1;32m    279\u001B[0m \u001B[38;5;250m\u001B[39m\u001B[38;5;124;03m'''Send a command and return the response.'''\u001B[39;00m\n\u001B[1;32m    280\u001B[0m \u001B[38;5;28mself\u001B[39m\u001B[38;5;241m.\u001B[39mputcmd(cmd)\n\u001B[0;32m--> 281\u001B[0m \u001B[38;5;28;01mreturn\u001B[39;00m \u001B[38;5;28;43mself\u001B[39;49m\u001B[38;5;241;43m.\u001B[39;49m\u001B[43mgetresp\u001B[49m\u001B[43m(\u001B[49m\u001B[43m)\u001B[49m\n",
      "File \u001B[0;32m/Library/Frameworks/Python.framework/Versions/3.10/lib/python3.10/ftplib.py:244\u001B[0m, in \u001B[0;36mFTP.getresp\u001B[0;34m(self)\u001B[0m\n\u001B[1;32m    243\u001B[0m \u001B[38;5;28;01mdef\u001B[39;00m \u001B[38;5;21mgetresp\u001B[39m(\u001B[38;5;28mself\u001B[39m):\n\u001B[0;32m--> 244\u001B[0m     resp \u001B[38;5;241m=\u001B[39m \u001B[38;5;28;43mself\u001B[39;49m\u001B[38;5;241;43m.\u001B[39;49m\u001B[43mgetmultiline\u001B[49m\u001B[43m(\u001B[49m\u001B[43m)\u001B[49m\n\u001B[1;32m    245\u001B[0m     \u001B[38;5;28;01mif\u001B[39;00m \u001B[38;5;28mself\u001B[39m\u001B[38;5;241m.\u001B[39mdebugging:\n\u001B[1;32m    246\u001B[0m         \u001B[38;5;28mprint\u001B[39m(\u001B[38;5;124m'\u001B[39m\u001B[38;5;124m*resp*\u001B[39m\u001B[38;5;124m'\u001B[39m, \u001B[38;5;28mself\u001B[39m\u001B[38;5;241m.\u001B[39msanitize(resp))\n",
      "File \u001B[0;32m/Library/Frameworks/Python.framework/Versions/3.10/lib/python3.10/ftplib.py:230\u001B[0m, in \u001B[0;36mFTP.getmultiline\u001B[0;34m(self)\u001B[0m\n\u001B[1;32m    229\u001B[0m \u001B[38;5;28;01mdef\u001B[39;00m \u001B[38;5;21mgetmultiline\u001B[39m(\u001B[38;5;28mself\u001B[39m):\n\u001B[0;32m--> 230\u001B[0m     line \u001B[38;5;241m=\u001B[39m \u001B[38;5;28;43mself\u001B[39;49m\u001B[38;5;241;43m.\u001B[39;49m\u001B[43mgetline\u001B[49m\u001B[43m(\u001B[49m\u001B[43m)\u001B[49m\n\u001B[1;32m    231\u001B[0m     \u001B[38;5;28;01mif\u001B[39;00m line[\u001B[38;5;241m3\u001B[39m:\u001B[38;5;241m4\u001B[39m] \u001B[38;5;241m==\u001B[39m \u001B[38;5;124m'\u001B[39m\u001B[38;5;124m-\u001B[39m\u001B[38;5;124m'\u001B[39m:\n\u001B[1;32m    232\u001B[0m         code \u001B[38;5;241m=\u001B[39m line[:\u001B[38;5;241m3\u001B[39m]\n",
      "File \u001B[0;32m/Library/Frameworks/Python.framework/Versions/3.10/lib/python3.10/ftplib.py:212\u001B[0m, in \u001B[0;36mFTP.getline\u001B[0;34m(self)\u001B[0m\n\u001B[1;32m    211\u001B[0m \u001B[38;5;28;01mdef\u001B[39;00m \u001B[38;5;21mgetline\u001B[39m(\u001B[38;5;28mself\u001B[39m):\n\u001B[0;32m--> 212\u001B[0m     line \u001B[38;5;241m=\u001B[39m \u001B[38;5;28;43mself\u001B[39;49m\u001B[38;5;241;43m.\u001B[39;49m\u001B[43mfile\u001B[49m\u001B[38;5;241;43m.\u001B[39;49m\u001B[43mreadline\u001B[49m\u001B[43m(\u001B[49m\u001B[38;5;28;43mself\u001B[39;49m\u001B[38;5;241;43m.\u001B[39;49m\u001B[43mmaxline\u001B[49m\u001B[43m \u001B[49m\u001B[38;5;241;43m+\u001B[39;49m\u001B[43m \u001B[49m\u001B[38;5;241;43m1\u001B[39;49m\u001B[43m)\u001B[49m\n\u001B[1;32m    213\u001B[0m     \u001B[38;5;28;01mif\u001B[39;00m \u001B[38;5;28mlen\u001B[39m(line) \u001B[38;5;241m>\u001B[39m \u001B[38;5;28mself\u001B[39m\u001B[38;5;241m.\u001B[39mmaxline:\n\u001B[1;32m    214\u001B[0m         \u001B[38;5;28;01mraise\u001B[39;00m Error(\u001B[38;5;124m\"\u001B[39m\u001B[38;5;124mgot more than \u001B[39m\u001B[38;5;132;01m%d\u001B[39;00m\u001B[38;5;124m bytes\u001B[39m\u001B[38;5;124m\"\u001B[39m \u001B[38;5;241m%\u001B[39m \u001B[38;5;28mself\u001B[39m\u001B[38;5;241m.\u001B[39mmaxline)\n",
      "File \u001B[0;32m/Library/Frameworks/Python.framework/Versions/3.10/lib/python3.10/socket.py:705\u001B[0m, in \u001B[0;36mSocketIO.readinto\u001B[0;34m(self, b)\u001B[0m\n\u001B[1;32m    703\u001B[0m \u001B[38;5;28;01mwhile\u001B[39;00m \u001B[38;5;28;01mTrue\u001B[39;00m:\n\u001B[1;32m    704\u001B[0m     \u001B[38;5;28;01mtry\u001B[39;00m:\n\u001B[0;32m--> 705\u001B[0m         \u001B[38;5;28;01mreturn\u001B[39;00m \u001B[38;5;28;43mself\u001B[39;49m\u001B[38;5;241;43m.\u001B[39;49m\u001B[43m_sock\u001B[49m\u001B[38;5;241;43m.\u001B[39;49m\u001B[43mrecv_into\u001B[49m\u001B[43m(\u001B[49m\u001B[43mb\u001B[49m\u001B[43m)\u001B[49m\n\u001B[1;32m    706\u001B[0m     \u001B[38;5;28;01mexcept\u001B[39;00m timeout:\n\u001B[1;32m    707\u001B[0m         \u001B[38;5;28mself\u001B[39m\u001B[38;5;241m.\u001B[39m_timeout_occurred \u001B[38;5;241m=\u001B[39m \u001B[38;5;28;01mTrue\u001B[39;00m\n",
      "\u001B[0;31mKeyboardInterrupt\u001B[0m: "
     ]
    }
   ],
   "source": [
    "from src.scripts.get_genomes import *\n",
    "\n",
    "\n",
    "DEFAULT_EMAIL = 'email@example.com'\n",
    "DEFAULT_OUTPUT_DIR = '/Users/josediogomoura/Desktop/BioFago/github/data/output/new_test'\n",
    "DEFAULT_API_KEY = None\n",
    "DEFAULT_TERM = '\"Erwinia amylovora\"[Organism] AND (latest[filter] AND all[filter] NOT anomalous[filter])'\n",
    "FORMATS = ['gbff']\n",
    "\n",
    "search_and_download_genomes(search_term=DEFAULT_TERM, output_dir=DEFAULT_OUTPUT_DIR, email=DEFAULT_EMAIL, api_key=DEFAULT_API_KEY, formats=FORMATS)\n",
    "\n"
   ],
   "metadata": {
    "collapsed": false,
    "ExecuteTime": {
     "end_time": "2024-01-19T15:37:50.715648Z",
     "start_time": "2024-01-19T15:37:37.316447Z"
    }
   },
   "id": "287382ab727cd6b2"
  },
  {
   "cell_type": "code",
   "execution_count": null,
   "outputs": [],
   "source": [],
   "metadata": {
    "collapsed": false
   },
   "id": "a10a1fa4f56087cd"
  }
 ],
 "metadata": {
  "kernelspec": {
   "display_name": "Python 3",
   "language": "python",
   "name": "python3"
  },
  "language_info": {
   "codemirror_mode": {
    "name": "ipython",
    "version": 2
   },
   "file_extension": ".py",
   "mimetype": "text/x-python",
   "name": "python",
   "nbconvert_exporter": "python",
   "pygments_lexer": "ipython2",
   "version": "2.7.6"
  }
 },
 "nbformat": 4,
 "nbformat_minor": 5
}
