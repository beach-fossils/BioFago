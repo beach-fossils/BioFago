{
 "cells": [
  {
   "cell_type": "code",
   "execution_count": 2,
   "outputs": [
    {
     "name": "stderr",
     "output_type": "stream",
     "text": [
      "2024-01-19 15:28:15,497 - INFO - Found 247 assemblies for '\"Erwinia amylovora\"[Organism] AND (latest[filter] AND all[filter] NOT anomalous[filter])'.\n",
      "2024-01-19 15:28:17,262 - INFO - Downloading GCA_028623185.1_ASM2862318v1_genomic.gbff.gz...\n",
      "2024-01-19 15:28:19,487 - INFO - Downloaded /Users/josediogomoura/Desktop/BioFago/github/data/output/new_test/GCA_028623185.1_ASM2862318v1_genomic.gbff.gz\n",
      "2024-01-19 15:28:21,412 - INFO - Downloading GCA_027557715.1_ASM2755771v1_genomic.gbff.gz...\n",
      "\n",
      "KeyboardInterrupt\n",
      "\n"
     ]
    }
   ],
   "source": [
    "from src.scripts.get_genomes import *\n",
    "\n",
    "\n",
    "DEFAULT_EMAIL = 'email@example.com'\n",
    "DEFAULT_OUTPUT_DIR = '/Users/josediogomoura/Desktop/BioFago/github/data/output/new_test'\n",
    "DEFAULT_API_KEY = 'your_api_key'\n",
    "DEFAULT_TERM = '\"Erwinia amylovora\"[Organism] AND (latest[filter] AND all[filter] NOT anomalous[filter])'\n",
    "FORMATS = ['gbff']\n",
    "\n",
    "search_and_download_genomes(search_term=DEFAULT_TERM, output_dir=DEFAULT_OUTPUT_DIR, email=DEFAULT_EMAIL, api_key=DEFAULT_API_KEY, formats=FORMATS)\n",
    "\n"
   ],
   "metadata": {
    "collapsed": false,
    "ExecuteTime": {
     "end_time": "2024-01-19T15:28:24.470584Z",
     "start_time": "2024-01-19T15:28:14.839311Z"
    }
   },
   "id": "287382ab727cd6b2"
  },
  {
   "cell_type": "code",
   "execution_count": null,
   "outputs": [],
   "source": [],
   "metadata": {
    "collapsed": false
   },
   "id": "a10a1fa4f56087cd"
  }
 ],
 "metadata": {
  "kernelspec": {
   "display_name": "Python 3",
   "language": "python",
   "name": "python3"
  },
  "language_info": {
   "codemirror_mode": {
    "name": "ipython",
    "version": 2
   },
   "file_extension": ".py",
   "mimetype": "text/x-python",
   "name": "python",
   "nbconvert_exporter": "python",
   "pygments_lexer": "ipython2",
   "version": "2.7.6"
  }
 },
 "nbformat": 4,
 "nbformat_minor": 5
}
